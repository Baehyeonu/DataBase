{
 "cells": [
  {
   "cell_type": "markdown",
   "metadata": {},
   "source": [
    "### 예스 24 크롤링"
   ]
  },
  {
   "cell_type": "code",
   "execution_count": 1,
   "metadata": {},
   "outputs": [
    {
     "data": {
      "text/plain": [
       "'/Users/baehyeon-u/.wdm/drivers/chromedriver/mac64/132.0.6834.83/chromedriver-mac-arm64/chromedriver'"
      ]
     },
     "execution_count": 1,
     "metadata": {},
     "output_type": "execute_result"
    }
   ],
   "source": [
    "#webdriver-manager 라이브러리 불러오기\n",
    "from webdriver_manager.chrome import ChromeDriverManager\n",
    "ChromeDriverManager().install()"
   ]
  },
  {
   "cell_type": "code",
   "execution_count": 2,
   "metadata": {},
   "outputs": [],
   "source": [
    "from selenium import webdriver\n",
    "browser = webdriver.Chrome()"
   ]
  },
  {
   "cell_type": "code",
   "execution_count": 3,
   "metadata": {},
   "outputs": [],
   "source": [
    "url = 'https://www.google.co.kr/'\n",
    "browser.get(url)"
   ]
  },
  {
   "cell_type": "code",
   "execution_count": 4,
   "metadata": {},
   "outputs": [
    {
     "data": {
      "text/plain": [
       "'대한민국'"
      ]
     },
     "execution_count": 4,
     "metadata": {},
     "output_type": "execute_result"
    }
   ],
   "source": [
    "from selenium.webdriver.common.by import By\n",
    "\n",
    "browser.find_element(By.CLASS_NAME, 'uU7dJb').text"
   ]
  },
  {
   "cell_type": "code",
   "execution_count": 5,
   "metadata": {},
   "outputs": [],
   "source": [
    "url = 'https://www.yes24.com/Product/category/bestseller?CategoryNumber=001&sumgb=06'\n",
    "browser.get(url)"
   ]
  },
  {
   "cell_type": "code",
   "execution_count": 6,
   "metadata": {},
   "outputs": [
    {
     "name": "stdout",
     "output_type": "stream",
     "text": [
      "https://www.yes24.com/Product/Goods/140285749\n",
      "https://www.yes24.com/Product/Goods/13137546\n",
      "https://www.yes24.com/Product/Goods/126590468\n",
      "https://www.yes24.com/Product/Goods/140199250\n",
      "https://www.yes24.com/Product/Goods/140199263\n",
      "https://www.yes24.com/Product/Goods/138282792\n",
      "https://www.yes24.com/Product/Goods/108422348\n",
      "https://www.yes24.com/Product/Goods/125557465\n",
      "https://www.yes24.com/Product/Goods/103495056\n",
      "https://www.yes24.com/Product/Goods/140231250\n",
      "https://www.yes24.com/Product/Goods/136298166\n",
      "https://www.yes24.com/Product/Goods/124043812\n",
      "https://www.yes24.com/Product/Goods/124043802\n",
      "https://www.yes24.com/Product/Goods/140371473\n",
      "https://www.yes24.com/Product/Goods/123400303\n",
      "https://www.yes24.com/Product/Goods/141377991\n",
      "https://www.yes24.com/Product/Goods/81003394\n",
      "https://www.yes24.com/Product/Goods/141378033\n",
      "https://www.yes24.com/Product/Goods/8759796\n",
      "https://www.yes24.com/Product/Goods/133809700\n",
      "https://www.yes24.com/Product/Goods/122120495\n",
      "https://www.yes24.com/Product/Goods/141311145\n",
      "https://www.yes24.com/Product/Goods/140537260\n",
      "https://www.yes24.com/Product/Goods/67362730\n"
     ]
    }
   ],
   "source": [
    "# 1페이지의 링크 전부 수집\n",
    "## 한개의 베스트 셀러 링크 수집\n",
    "browser.find_element(By.CLASS_NAME, 'gd_name').get_attribute('href')\n",
    "\n",
    "# browser.find_element(By.CLASS_NAME, 'gd_name') # element : 요소\n",
    "datas = browser.find_elements(By.CLASS_NAME, 'gd_name') #element : 리스트\n",
    "\n",
    "for i in datas:\n",
    "    print(i.get_attribute('href'))"
   ]
  },
  {
   "cell_type": "code",
   "execution_count": 7,
   "metadata": {},
   "outputs": [
    {
     "name": "stdout",
     "output_type": "stream",
     "text": [
      "********** 현재 1 페이지 수집 주 입니다. **********\n",
      "********** 현재 2 페이지 수집 주 입니다. **********\n",
      "********** 현재 3 페이지 수집 주 입니다. **********\n",
      "['https://www.yes24.com/Product/Goods/140285749', 'https://www.yes24.com/Product/Goods/13137546', 'https://www.yes24.com/Product/Goods/126590468', 'https://www.yes24.com/Product/Goods/140199250', 'https://www.yes24.com/Product/Goods/140199263', 'https://www.yes24.com/Product/Goods/138282792', 'https://www.yes24.com/Product/Goods/108422348', 'https://www.yes24.com/Product/Goods/125557465', 'https://www.yes24.com/Product/Goods/103495056', 'https://www.yes24.com/Product/Goods/140231250', 'https://www.yes24.com/Product/Goods/136298166', 'https://www.yes24.com/Product/Goods/124043812', 'https://www.yes24.com/Product/Goods/124043802', 'https://www.yes24.com/Product/Goods/140371473', 'https://www.yes24.com/Product/Goods/123400303', 'https://www.yes24.com/Product/Goods/141377991', 'https://www.yes24.com/Product/Goods/81003394', 'https://www.yes24.com/Product/Goods/141378033', 'https://www.yes24.com/Product/Goods/8759796', 'https://www.yes24.com/Product/Goods/133809700', 'https://www.yes24.com/Product/Goods/122120495', 'https://www.yes24.com/Product/Goods/141311145', 'https://www.yes24.com/Product/Goods/140537260', 'https://www.yes24.com/Product/Goods/67362730', 'https://www.yes24.com/Product/Goods/141311162', 'https://www.yes24.com/Product/Goods/11467936', 'https://www.yes24.com/Product/Goods/141311100', 'https://www.yes24.com/Product/Goods/133213071', 'https://www.yes24.com/Product/Goods/117014613', 'https://www.yes24.com/Product/Goods/116586303', 'https://www.yes24.com/Product/Goods/141198750', 'https://www.yes24.com/Product/Goods/141403153', 'https://www.yes24.com/Product/Goods/134602629', 'https://www.yes24.com/Product/Goods/135854080', 'https://www.yes24.com/Product/Goods/60524285', 'https://www.yes24.com/Product/Goods/141267375', 'https://www.yes24.com/Product/Goods/139753235', 'https://www.yes24.com/Product/Goods/5926713', 'https://www.yes24.com/Product/Goods/140072103', 'https://www.yes24.com/Product/Goods/136734901', 'https://www.yes24.com/Product/Goods/141231108', 'https://www.yes24.com/Product/Goods/140075936', 'https://www.yes24.com/Product/Goods/139870454', 'https://www.yes24.com/Product/Goods/138831340', 'https://www.yes24.com/Product/Goods/131930939', 'https://www.yes24.com/Product/Goods/140836732', 'https://www.yes24.com/Product/Goods/138479783', 'https://www.yes24.com/Product/Goods/140001692', 'https://www.yes24.com/Product/Goods/96547408', 'https://www.yes24.com/Product/Goods/141267373', 'https://www.yes24.com/Product/Goods/138336669', 'https://www.yes24.com/Product/Goods/116467955', 'https://www.yes24.com/Product/Goods/140536812', 'https://www.yes24.com/Product/Goods/140377474', 'https://www.yes24.com/Product/Goods/141180543', 'https://www.yes24.com/Product/Goods/141263396', 'https://www.yes24.com/Product/Goods/140189194', 'https://www.yes24.com/Product/Goods/133755473', 'https://www.yes24.com/Product/Goods/141325413', 'https://www.yes24.com/Product/Goods/79297023', 'https://www.yes24.com/Product/Goods/124219505', 'https://www.yes24.com/Product/Goods/139999483', 'https://www.yes24.com/Product/Goods/116020437', 'https://www.yes24.com/Product/Goods/138503348', 'https://www.yes24.com/Product/Goods/102502665', 'https://www.yes24.com/Product/Goods/91868954', 'https://www.yes24.com/Product/Goods/140861138', 'https://www.yes24.com/Product/Goods/2312211', 'https://www.yes24.com/Product/Goods/128939189', 'https://www.yes24.com/Product/Goods/141327431', 'https://www.yes24.com/Product/Goods/139853780', 'https://www.yes24.com/Product/Goods/140231496']\n"
     ]
    }
   ],
   "source": [
    "# 3페이지까지의 링크 데이터 전부 수집\n",
    "#https://www.yes24.com/Product/Category/BestSeller?categoryNumber=001&pageNumber=1&pageSize=24\n",
    "#https://www.yes24.com/Product/Category/BestSeller?categoryNumber=001&pageNumber=2&pageSize=24\n",
    "#https://www.yes24.com/Product/Category/BestSeller?categoryNumber=001&pageNumber=3&pageSize=24\n",
    "import time\n",
    "\n",
    "link_list = []\n",
    "\n",
    "for i in range(1,4):\n",
    "    print(\"*\" * 10,f\"현재 {i} 페이지 수집 주 입니다.\", \"*\"*10)\n",
    "\n",
    "    url = f'https://www.yes24.com/Product/Category/BestSeller?categoryNumber=001&pageNumber={i}&pageSize=24'\n",
    "    browser.get(url)\n",
    "    \n",
    "    browser.find_element(By.CLASS_NAME, 'gd_name').get_attribute('href')\n",
    "    datas = browser.find_elements(By.CLASS_NAME, 'gd_name') #element : 리스트\n",
    "\n",
    "    for i in datas:\n",
    "\n",
    "        link = i.get_attribute('href')\n",
    "        link_list.append(link)\n",
    "\n",
    "    time.sleep(3)\n",
    "\n",
    "print(link_list)"
   ]
  },
  {
   "cell_type": "code",
   "execution_count": 8,
   "metadata": {},
   "outputs": [
    {
     "data": {
      "text/plain": [
       "72"
      ]
     },
     "execution_count": 8,
     "metadata": {},
     "output_type": "execute_result"
    }
   ],
   "source": [
    "len(link_list)"
   ]
  },
  {
   "cell_type": "code",
   "execution_count": 9,
   "metadata": {},
   "outputs": [],
   "source": [
    "# for link in link_list:\n",
    "#     # 상세 페이지로 이동\n",
    "#     browser.get(link)\n",
    "browser.get(link_list[0])\n",
    "\n",
    "title = browser.find_element(By.CLASS_NAME, 'gd_name').text\n",
    "\n",
    "author = browser.find_element(By.CLASS_NAME, 'gd_auth').text\n",
    "\n",
    "publisher = browser.find_element(By.CLASS_NAME,'gd_pub').text\n",
    "\n",
    "publishing = browser.find_element(By.CLASS_NAME,'gd_date').text\n",
    "\n",
    "rating = browser.find_element(By.CLASS_NAME,'yes_b').text\n",
    "\n",
    "review = browser.find_element(By.CLASS_NAME,'txC_blue').text\n",
    "\n",
    "sales = browser.find_element(By.CLASS_NAME,'gd_sellNum').text.split(\" \")[2]\n",
    "\n",
    "price  = browser.find_element(By.CLASS_NAME,'yes_m').text[:-1]\n",
    "\n",
    "ranking = browser.find_element(By.CLASS_NAME,'gd_best').text.split(\" | \")[0]\n",
    "\n",
    "ranking_weeks = browser.find_element(By.CLASS_NAME,'gd_best').text.split(\" | \")[1]\n"
   ]
  },
  {
   "cell_type": "code",
   "execution_count": 10,
   "metadata": {},
   "outputs": [
    {
     "data": {
      "text/plain": [
       "'베스트 국내도서 1위'"
      ]
     },
     "execution_count": 10,
     "metadata": {},
     "output_type": "execute_result"
    }
   ],
   "source": [
    "text = \"베스트 국내도서 1위 | 국내도서 1위 1주\"\n",
    "\n",
    "text.split(\" | \")[0]"
   ]
  },
  {
   "cell_type": "code",
   "execution_count": 22,
   "metadata": {},
   "outputs": [
    {
     "ename": "KeyboardInterrupt",
     "evalue": "",
     "output_type": "error",
     "traceback": [
      "\u001b[0;31m---------------------------------------------------------------------------\u001b[0m",
      "\u001b[0;31mKeyboardInterrupt\u001b[0m                         Traceback (most recent call last)",
      "Cell \u001b[0;32mIn[22], line 100\u001b[0m\n\u001b[1;32m     97\u001b[0m cur\u001b[38;5;241m.\u001b[39mexecute(sql, (title, author, publisher, publishing, rating, review, sales, price, ranking, ranking_weeks))\n\u001b[1;32m     98\u001b[0m conn\u001b[38;5;241m.\u001b[39mcommit()\n\u001b[0;32m--> 100\u001b[0m \u001b[43mtime\u001b[49m\u001b[38;5;241;43m.\u001b[39;49m\u001b[43msleep\u001b[49m\u001b[43m(\u001b[49m\u001b[38;5;241;43m1\u001b[39;49m\u001b[43m)\u001b[49m\n",
      "\u001b[0;31mKeyboardInterrupt\u001b[0m: "
     ]
    }
   ],
   "source": [
    "#데이터 베이스 연동 후 -> 수집한 데이터를 DB에 저장 (csv)\n",
    "import pymysql\n",
    "import time\n",
    "import re\n",
    "from datetime import datetime\n",
    "\n",
    "conn = pymysql.connect(\n",
    "    host ='localhost',\n",
    "    user = \"root\",\n",
    "    password=\"hyeonu\",\n",
    "    db='yes24',\n",
    "    charset= 'utf8mb4',\n",
    "    cursorclass=pymysql.cursors.DictCursor\n",
    ")\n",
    "\n",
    "with conn.cursor() as cur:\n",
    "\n",
    "    for link in link_list:\n",
    "        browser.get(link)\n",
    "\n",
    "        title = browser.find_element(By.CLASS_NAME, 'gd_name').text\n",
    "        author = browser.find_element(By.CLASS_NAME, 'gd_auth').text\n",
    "        publisher = browser.find_element(By.CLASS_NAME,'gd_pub').text\n",
    "        \n",
    "\n",
    "        publishing = browser.find_element(By.CLASS_NAME,'gd_date').text\n",
    "\n",
    "        match = re.search(r'(\\d+)년 (\\d+)월 (\\d+)일', publishing)\n",
    "\n",
    "        if match:\n",
    "            year, month, day = match.groups()\n",
    "            data_obj = datetime(int(year), int(month), int(day))\n",
    "            publishing = data_obj.strftime(\"%Y-%m-%d\")\n",
    "        else:\n",
    "            publishing = \"2023-01-01\"\n",
    "\n",
    "        rating = browser.find_element(By.CLASS_NAME,'yes_b').text\n",
    "        try:\n",
    "    # 요소에서 텍스트 추출\n",
    "            rating_text = browser.find_element(By.CLASS_NAME, 'yes_b').text\n",
    "    \n",
    "    # 쉼표 제거 후 float으로 변환\n",
    "            rating = float(rating_text.replace(\",\", \"\"))\n",
    "    \n",
    "    # 10 이하로 제한\n",
    "            rating = min(rating, 10.0)\n",
    "    \n",
    "        except ValueError:\n",
    "    # 변환 실패 시 0.0으로 처리\n",
    "            rating = 0.0\n",
    "\n",
    "        review = browser.find_element(By.CLASS_NAME,'txC_blue').text\n",
    "        try:\n",
    "            review = int(review.replace(\",\", \"\"))\n",
    "        except ValueError:\n",
    "        # 문자열이 숫자로 변환 불가능한 경우 0으로 설정\n",
    "            review = 1\n",
    "        except NoSuchElementException:\n",
    "        # 요소를 찾지 못한 경우도 0으로 설정\n",
    "            review = 1\n",
    "\n",
    "        sales = browser.find_element(By.CLASS_NAME,'gd_sellNum').text.split(\" \")[2]\n",
    "        sales = int(sales.replace(\",\", \"\"))\n",
    "\n",
    "        price = browser.find_element(By.CLASS_NAME,'yes_m').text[:-1]\n",
    "        price = int(price.replace(\",\", \"\")) \n",
    "\n",
    "        full_text = browser.find_element(By.CLASS_NAME, 'gd_best').text\n",
    "\n",
    "        parts = full_text.split(\" | \")\n",
    "        \n",
    "\n",
    "        if len(parts) == 1:\n",
    "            ranking = 0\n",
    "            ranking_weeks = 0\n",
    "        else:\n",
    "            try:\n",
    "                ranking_part = parts[0]\n",
    "                ranking = ''.join(filter(str.isdigit, ranking_part))# 숫자만 추출\n",
    "            except:\n",
    "                ranking = 0\n",
    "\n",
    "            try:\n",
    "                #국내도서 top20 3주\n",
    "                ranking_weeks_part = parts[1]\n",
    "                ranking_weeks = ''.join(filter(str.isdigit, ranking_weeks_part.split()[-1]))\n",
    "            except:\n",
    "                ranking_weeks = 0\n",
    "\n",
    "        sql = \"\"\"INSERT INTO Books(\n",
    "            title, author, publisher, publishing, rating, review, sales, price, ranking, ranking_weeks\n",
    "            )\n",
    "            VALUES(\n",
    "            %s, %s, %s, %s, %s, %s, %s, %s, %s, %s)\n",
    "            \"\"\"\n",
    "\n",
    "        cur.execute(sql, (title, author, publisher, publishing, rating, review, sales, price, ranking, ranking_weeks))\n",
    "        conn.commit()\n",
    "\n",
    "        time.sleep(1)"
   ]
  },
  {
   "cell_type": "code",
   "execution_count": 20,
   "metadata": {},
   "outputs": [
    {
     "data": {
      "text/plain": [
       "10.0"
      ]
     },
     "execution_count": 20,
     "metadata": {},
     "output_type": "execute_result"
    }
   ],
   "source": [
    "# title = browser.find_element(By.CLASS_NAME, 'gd_name').text\n",
    "# author = browser.find_element(By.CLASS_NAME, 'gd_auth').text\n",
    "# publisher = browser.find_element(By.CLASS_NAME,'gd_pub').text\n",
    "# publishing = browser.find_element(By.CLASS_NAME,'gd_date').text\n",
    "try:\n",
    "    # 요소에서 텍스트 추출\n",
    "    rating_text = browser.find_element(By.CLASS_NAME, 'yes_b').text\n",
    "    \n",
    "    # 쉼표 제거 후 float으로 변환\n",
    "    rating = float(rating_text.replace(\",\", \"\"))\n",
    "    \n",
    "    # 10 이하로 제한\n",
    "    rating = min(rating, 10.0)\n",
    "    \n",
    "except ValueError:\n",
    "    # 변환 실패 시 0.0으로 처리\n",
    "    rating = 0.0\n",
    "# review = browser.find_element(By.CLASS_NAME,'txC_blue').text\n",
    "# try:\n",
    "#     review = int(review.replace(\",\", \"\"))\n",
    "# except ValueError:\n",
    "#         # 문자열이 숫자로 변환 불가능한 경우 0으로 설정\n",
    "#     review = 1\n",
    "# except NoSuchElementException:\n",
    "#     # 요소를 찾지 못한 경우도 0으로 설정\n",
    "#     review = 1\n",
    "# sales = browser.find_element(By.CLASS_NAME,'gd_sellNum').text.split(\" \")[2]\n",
    "# price  = browser.find_element(By.CLASS_NAME,'yes_m').text[:-1]\n",
    "# ranking = browser.find_element(By.CLASS_NAME,'gd_best').text.split(\" | \")[1].split(\" \")[1][:-1]\n",
    "# ranking_weeks = browser.find_element(By.CLASS_NAME,'gd_best').text.split(\" | \")[1].split(\" \")[2][:-1]\n",
    "\n",
    "# title, author, publisher, publishing, rating, review, sales, price, ranking, ranking_weeks\n",
    "rating"
   ]
  },
  {
   "cell_type": "code",
   "execution_count": null,
   "metadata": {},
   "outputs": [],
   "source": [
    "ranking = browser.find_element(By.CLASS_NAME,'gd_best').text.split(\" | \")[1].split(\" \")[1][:-1]\n",
    "ranking_weeks = browser.find_element(By.CLASS_NAME,'gd_best').text.split(\" | \")[1].split(\" \")[2][:-1]\n",
    "\n",
    "ranking, ranking_weeks"
   ]
  },
  {
   "cell_type": "code",
   "execution_count": null,
   "metadata": {},
   "outputs": [],
   "source": []
  }
 ],
 "metadata": {
  "kernelspec": {
   "display_name": ".venv",
   "language": "python",
   "name": "python3"
  },
  "language_info": {
   "codemirror_mode": {
    "name": "ipython",
    "version": 3
   },
   "file_extension": ".py",
   "mimetype": "text/x-python",
   "name": "python",
   "nbconvert_exporter": "python",
   "pygments_lexer": "ipython3",
   "version": "3.13.1"
  }
 },
 "nbformat": 4,
 "nbformat_minor": 2
}
