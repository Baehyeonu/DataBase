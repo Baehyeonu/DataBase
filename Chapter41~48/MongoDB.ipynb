{
 "cells": [
  {
   "cell_type": "code",
   "execution_count": null,
   "metadata": {},
   "outputs": [],
   "source": [
    "from pymongo import MongoClient\n",
    "from datetime import datetime\n",
    "\n",
    "def insert_data():\n",
    "    client = MongoClient('mongodb://localhost:27017/')\n",
    "    db = client.local  # 'local' 데이터베이스 사용\n",
    "\n",
    "    # 책 데이터 삽입\n",
    "    books = [\n",
    "        {\"title\": \"Kafka on the Shore\", \"author\": \"Haruki Murakami\", \"year\": 2002},\n",
    "        {\"title\": \"Norwegian Wood\", \"author\": \"Haruki Murakami\", \"year\": 1987},\n",
    "        {\"title\": \"1Q84\", \"author\": \"Haruki Murakami\", \"year\": 2009}\n",
    "    ]\n",
    "    db.books.insert_many(books)\n",
    "\n",
    "    # 영화 데이터 삽입\n",
    "    movies = [\n",
    "        {\"title\": \"Inception\", \"director\": \"Christopher Nolan\", \"year\": 2010, \"rating\": 8.8},\n",
    "        {\"title\": \"Interstellar\", \"director\": \"Christopher Nolan\", \"year\": 2014, \"rating\": 8.6},\n",
    "        {\"title\": \"The Dark Knight\", \"director\": \"Christopher Nolan\", \"year\": 2008, \"rating\": 9.0}\n",
    "    ]\n",
    "    db.movies.insert_many(movies)\n",
    "\n",
    "    # 사용자 행동 데이터 삽입\n",
    "    user_actions = [\n",
    "        {\"user_id\": 1, \"action\": \"click\", \"timestamp\": datetime(2023, 4, 12, 8, 0)},\n",
    "        {\"user_id\": 1, \"action\": \"view\", \"timestamp\": datetime(2023, 4, 12, 9, 0)},\n",
    "        {\"user_id\": 2, \"action\": \"purchase\", \"timestamp\": datetime(2023, 4, 12, 10, 0)},\n",
    "    ]\n",
    "    db.user_actions.insert_many(user_actions)\n",
    "\n",
    "    print(\"Data inserted successfully\")\n",
    "    client.close()\n",
    "\n",
    "if __name__ == \"__main__\":\n",
    "    insert_data()"
   ]
  },
  {
   "cell_type": "markdown",
   "metadata": {},
   "source": [
    "**[문제 1: 특정 장르의 책 찾기]**\n",
    "\n",
    "- **문제 설명**:\n",
    "데이터베이스에 새로운 필드로 **`genre`**를 책 데이터에 추가하였습니다. 사용자는 \"fantasy\" 장르의 모든 책을 찾고 싶어합니다.\n",
    "- **쿼리 작성 목표**:\n",
    "\"fantasy\" 장르에 해당하는 모든 책의 제목과 저자를 찾는 MongoDB 쿼리를 함수로 만들어 문제를 해결해 봅니다."
   ]
  },
  {
   "cell_type": "code",
   "execution_count": 80,
   "metadata": {},
   "outputs": [
    {
     "name": "stdout",
     "output_type": "stream",
     "text": [
      "저장된 책의 개수는 8개 입니다.\n",
      "******** 찾으시는 책을 검색 중입니다. ********\n",
      "\n",
      "찾으시는 Fantasy책의 제목과 저자 입니다.\n",
      "제목: The Name of the Wind, 저자: Patrick Rothfuss\n",
      "제목: The Mistborn Trilogy, 저자: Brandon Sanderson\n"
     ]
    }
   ],
   "source": [
    "from pymongo import MongoClient\n",
    "import time\n",
    "\n",
    "def insert_data():\n",
    "    client = MongoClient('mongodb://localhost:27017/')\n",
    "    db = client.local  # 'local' 데이터베이스 사용\n",
    "    collection = db.books\n",
    "\n",
    "    collection.delete_many({}) # 매번 지우고 다시 하고 귀찮으니깐 처음 부터 삭제\n",
    "\n",
    "    # 책 데이터 삽입\n",
    "    books = [\n",
    "        {\"title\": \"Kafka on the Shore\", \"author\": \"Haruki Murakami\", \"year\": 2002},\n",
    "        {\"title\": \"Norwegian Wood\", \"author\": \"Haruki Murakami\", \"year\": 1987},\n",
    "        {\"title\": \"1Q84\", \"author\": \"Haruki Murakami\", \"year\": 2009},\n",
    "        {\"title\": \"The Name of the Wind\",\"author\": \"Patrick Rothfuss\",\"year\": 2007},\n",
    "        {\"title\": \"To Kill a Mockingbird\", \"author\": \"Harper Lee\", \"year\": 1960, \"genre\": \"Fiction\"},\n",
    "        {\"title\": \"The Mistborn Trilogy\", \"author\": \"Brandon Sanderson\", \"year\": 2006, \"genre\": \"Fantasy\"},\n",
    "        {\"title\": \"Pride and Prejudice\", \"author\": \"Jane Austen\", \"year\": 1813, \"genre\": \"Romance\"},\n",
    "        {\"title\": \"The Catcher in the Rye\", \"author\": \"J.D. Salinger\", \"year\": 1951, \"genre\": \"Coming-of-age Fiction\"}\n",
    "    ]\n",
    "    collection.insert_many(books)\n",
    "    doc_count = collection.count_documents({})\n",
    "    print(f'저장된 책의 개수는 {doc_count}개 입니다.')\n",
    "    time.sleep(1)\n",
    "    print(\"*\"*8,f\"찾으시는 책을 검색 중입니다.\",\"*\"*8) #시간이 나면 input도 해봐야지\n",
    "\n",
    "    # for doc in collection.find({}, {\"_id\":0}): #이게 왜 반복이 되는거야.. 삭제 해야해...\n",
    "    #     print(f\"보관된 책을 불러 옴니다. {doc}\", \"\\n\") # 출력이 너무 지저분한거 같아\n",
    "    return collection                              # 저장된 책의 개수만 출력이 되게 했다.\n",
    "\n",
    "# 기존에 있던 데이터에 필드 genre를 추가하고 각각의 데이터에 genre를 추가한다\n",
    "def set_genre(collection):         \n",
    "    genre = {\n",
    "        \"Kafka on the Shore\": \"Magical Realism\",\n",
    "        \"Norwegian Wood\": \"Contemporary Fiction\",\n",
    "        \"1Q84\": \"Science Fiction\",\n",
    "        \"The Name of the Wind\":\"Fantasy\"\n",
    "        }\n",
    "\n",
    "    for title, genre in genre.items(): #.items으로 genre를 key,value으로 나누고 title로\n",
    "        collection.update_many( # 각 데이터를 조회해서 값이 맞으면 genre를 추가한다.\n",
    "            {\"title\":title},\n",
    "            {\"$set\": {\"genre\":genre}}\n",
    "        )\n",
    "\n",
    "    # 특정 장르의 책 찾기    원래 식은 db.books.find({\"genre\":\"fantasy\"})를 함수로 표현해야 하는데\n",
    "    #db.books.find({ \"genre\":\"fantast\"},{title: 1,author: 1 }) 이거도 해야돼...\n",
    "def find_book(collection, genre):\n",
    "    f_book = collection.find({\"genre\":genre},{\"_id\":0, \"title\":1, \"author\":1})\n",
    "\n",
    "    # 여기부터\n",
    "    if f_book:\n",
    "        print(f\"\\n찾으시는 {genre}책의 제목과 저자 입니다.\")\n",
    "        for book in f_book:\n",
    "            print(f'제목: {book[\"title\"]}, 저자: {book[\"author\"]}')\n",
    "    else:\n",
    "        print(f\"{genre} 장르의 책을 찾을 수 없습니다.\")\n",
    "    #여기까지는 gpt...그래도 출력이 마음에 든다\n",
    "\n",
    "\n",
    "collection = insert_data()\n",
    "set_genre(collection)\n",
    "time.sleep(2) #검색중 이라 쓰고 2초 뒤에 출력이 되게 만들었다. 이게 더 있어 보인다.\n",
    "find_book(collection,\"Fantasy\")"
   ]
  },
  {
   "cell_type": "markdown",
   "metadata": {},
   "source": [
    "**[문제 2: 감독별 평균 영화 평점 계산]**\n",
    "\n",
    "- **문제 설명**:\n",
    "각 영화 감독별로 그들의 영화 평점의 평균을 계산하고 싶습니다. 이를 통해 어떤 감독이 가장 높은 평균 평점을 가지고 있는지 알아볼 수 있습니다.\n",
    "- **쿼리 작성 목표**: \n",
    "모든 영화 감독의 영화 평점 평균을 계산하고, 평균 평점이 높은 순으로 정렬하는 MongoDB 쿼리를 함수로 만들어 문제를 해결해 봅니다."
   ]
  },
  {
   "cell_type": "code",
   "execution_count": null,
   "metadata": {},
   "outputs": [],
   "source": []
  },
  {
   "cell_type": "markdown",
   "metadata": {},
   "source": [
    "**[문제 3: 특정 사용자의 최근 행동 조회]**\n",
    "\n",
    "- **문제 설명**:\n",
    "특정 사용자의 최근 행동 로그를 조회하고자 합니다. 이 때, 최신 순으로 정렬하여 최근 5개의 행동만을 보고 싶습니다.\n",
    "- **쿼리 작성 목표**:\n",
    "사용자 ID가 1인 사용자의 최근 행동 5개를 시간 순으로 정렬하여 조회하는 MongoDB 쿼리를 함수로 만들어 문제를 해결해 봅니다."
   ]
  },
  {
   "cell_type": "code",
   "execution_count": null,
   "metadata": {},
   "outputs": [],
   "source": []
  },
  {
   "cell_type": "markdown",
   "metadata": {},
   "source": [
    "**[문제 4: 출판 연도별 책의 수 계산]**\n",
    "\n",
    "- **문제 설명** :\n",
    "데이터베이스에 저장된 책 데이터를 이용하여 각 출판 연도별로 출판된 책의 수를 계산하고자 합니다. 이 데이터는 시간에 따른 출판 트렌드를 분석하는 데 사용될 수 있습니다.\n",
    "- **쿼리 작성 목표** :\n",
    "각 출판 연도별로 출판된 책의 수를 계산하고, 출판된 책의 수가 많은 순서대로 정렬하는 MongoDB 쿼리를 함수로 만들어 문제를 해결해 봅니다."
   ]
  },
  {
   "cell_type": "code",
   "execution_count": null,
   "metadata": {},
   "outputs": [],
   "source": []
  },
  {
   "cell_type": "markdown",
   "metadata": {},
   "source": [
    "**[문제 5: 특정 사용자의 행동 유형 업데이트]**\n",
    "\n",
    "- **문제 설명**:\n",
    "특정 사용자의 행동 로그 중, 특정 날짜 이전의 \"view\" 행동을 \"seen\"으로 변경하고 싶습니다. 예를 들어, 사용자 ID가 1인 사용자의 2023년 4월 13일 이전의 모든 \"view\" 행동을 \"seen\"으로 변경하는 작업입니다.\n",
    "- **쿼리 작성 목표**:\n",
    "사용자 ID가 1인 사용자의 2023년 4월 13일 이전의 \"view\" 행동을 \"seen\"으로 변경하는 MongoDB 업데이트 쿼리를 함수로 만들어 문제를 해결해 봅니다."
   ]
  },
  {
   "cell_type": "code",
   "execution_count": null,
   "metadata": {},
   "outputs": [],
   "source": []
  }
 ],
 "metadata": {
  "kernelspec": {
   "display_name": "Python 3",
   "language": "python",
   "name": "python3"
  },
  "language_info": {
   "codemirror_mode": {
    "name": "ipython",
    "version": 3
   },
   "file_extension": ".py",
   "mimetype": "text/x-python",
   "name": "python",
   "nbconvert_exporter": "python",
   "pygments_lexer": "ipython3",
   "version": "3.9.6"
  }
 },
 "nbformat": 4,
 "nbformat_minor": 2
}
